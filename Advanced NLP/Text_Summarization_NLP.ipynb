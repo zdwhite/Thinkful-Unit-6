{
  "nbformat": 4,
  "nbformat_minor": 0,
  "metadata": {
    "colab": {
      "name": "Text Summarization NLP",
      "version": "0.3.2",
      "provenance": [],
      "include_colab_link": true
    },
    "kernelspec": {
      "name": "python3",
      "display_name": "Python 3"
    },
    "accelerator": "GPU"
  },
  "cells": [
    {
      "cell_type": "markdown",
      "metadata": {
        "id": "view-in-github",
        "colab_type": "text"
      },
      "source": [
        "<a href=\"https://colab.research.google.com/github/zdwhite/Thinkful-Unit-6/blob/master/Advanced%20NLP/Text_Summarization_NLP.ipynb\" target=\"_parent\"><img src=\"https://colab.research.google.com/assets/colab-badge.svg\" alt=\"Open In Colab\"/></a>"
      ]
    },
    {
      "cell_type": "code",
      "metadata": {
        "id": "I6Hg-_M5wN0M",
        "colab_type": "code",
        "colab": {}
      },
      "source": [
        "import numpy as np\n",
        "import pandas as pd\n",
        "import scipy\n",
        "import matplotlib.pyplot as plt\n",
        "import networkx as nx\n",
        "import spacy\n",
        "from sklearn.feature_extraction.text import TfidfVectorizer\n",
        "%matplotlib inline"
      ],
      "execution_count": 0,
      "outputs": []
    },
    {
      "cell_type": "code",
      "metadata": {
        "id": "jBH_pxQO4I6r",
        "colab_type": "code",
        "colab": {}
      },
      "source": [
        "def what_is_my_purpose(ngrams=1):\n",
        "  # Importing the text the lazy way.\n",
        "  gatsby=\"In my younger and more vulnerable years my father gave me some advice that I've been turning over in my mind ever since. \\\"Whenever you feel like criticizing any one,\\\" he told me, \\\"just remember that all the people in this world haven't had the advantages that you've had.\\\" He didn't say any more but we've always been unusually communicative in a reserved way, and I understood that he meant a great deal more than that. In consequence I'm inclined to reserve all judgments, a habit that has opened up many curious natures to me and also made me the victim of not a few veteran bores. The abnormal mind is quick to detect and attach itself to this quality when it appears in a normal person, and so it came about that in college I was unjustly accused of being a politician, because I was privy to the secret griefs of wild, unknown men. Most of the confidences were unsought--frequently I have feigned sleep, preoccupation, or a hostile levity when I realized by some unmistakable sign that an intimate revelation was quivering on the horizon--for the intimate revelations of young men or at least the terms in which they express them are usually plagiaristic and marred by obvious suppressions. Reserving judgments is a matter of infinite hope. I am still a little afraid of missing something if I forget that, as my father snobbishly suggested, and I snobbishly repeat a sense of the fundamental decencies is parcelled out unequally at birth. And, after boasting this way of my tolerance, I come to the admission that it has a limit. Conduct may be founded on the hard rock or the wet marshes but after a certain point I don't care what it's founded on. When I came back from the East last autumn I felt that I wanted the world to be in uniform and at a sort of moral attention forever; I wanted no more riotous excursions with privileged glimpses into the human heart. Only Gatsby, the man who gives his name to this book, was exempt from my reaction--Gatsby who represented everything for which I have an unaffected scorn. If personality is an unbroken series of successful gestures, then there was something gorgeous about him, some heightened sensitivity to the promises of life, as if he were related to one of those intricate machines that register earthquakes ten thousand miles away. This responsiveness had nothing to do with that flabby impressionability which is dignified under the name of the \\\"creative temperament\\\"--it was an extraordinary gift for hope, a romantic readiness such as I have never found in any other person and which it is not likely I shall ever find again. No--Gatsby turned out all right at the end; it is what preyed on Gatsby, what foul dust floated in the wake of his dreams that temporarily closed out my interest in the abortive sorrows and short-winded elations of men.\"\n",
        "\n",
        "  # We want to use the standard english-language parser.\n",
        "  parser = spacy.load('en')\n",
        "\n",
        "  # Parsing Gatsby.\n",
        "  gatsby = parser(gatsby)\n",
        "\n",
        "  # Dividing the text into sentences and storing them as a list of strings.\n",
        "  sentences=[]\n",
        "  for span in gatsby.sents:\n",
        "      # go from the start to the end of each span, returning each token in the sentence\n",
        "      # combine each token using join()\n",
        "      sent = ''.join(gatsby[i].string for i in range(span.start, span.end)).strip()\n",
        "      sentences.append(sent)\n",
        "\n",
        "  # Creating the tf-idf matrix.\n",
        "  counter = TfidfVectorizer(lowercase=False, \n",
        "                            stop_words=None,\n",
        "                            ngram_range=(ngrams,ngrams), \n",
        "                            analyzer=u'word', \n",
        "                            max_df=.5, \n",
        "                            min_df=1,\n",
        "                            max_features=None, \n",
        "                            vocabulary=None, \n",
        "                            binary=False)\n",
        "\n",
        "  #Applying the vectorizer\n",
        "  data_counts=counter.fit_transform(sentences)\n",
        "\n",
        "  # Calculating similarity\n",
        "  similarity = data_counts * data_counts.T\n",
        "\n",
        "  # Identifying the sentence with the highest rank.\n",
        "  nx_graph = nx.from_scipy_sparse_matrix(similarity)\n",
        "  ranks=nx.pagerank(nx_graph, alpha=.85, tol=.00000001)\n",
        "\n",
        "  ranked = sorted(((ranks[i],s) for i,s in enumerate(sentences)),\n",
        "                  reverse=True)\n",
        "  print('Highest Ranked Sentence \\n',ranked[0])\n",
        "\n",
        "\n",
        "  # Removing stop words and punctuation, then getting a list of all unique words in the text\n",
        "  gatsby_filt = [word for word in gatsby if word.is_stop==False and (word.pos_=='NOUN' or word.pos_=='ADJ')]\n",
        "  words=set(gatsby_filt)\n",
        "\n",
        "  #Creating a grid indicating whether words are within 4 places of the target word\n",
        "  adjacency=pd.DataFrame(columns=words,index=words,data=0)\n",
        "\n",
        "  #Iterating through each word in the text and indicating which of the unique words are its neighbors\n",
        "  for i,word in enumerate(gatsby):\n",
        "      # Checking if any of the word's next four neighbors are in the word list \n",
        "      if any([word == item for item in gatsby_filt]):\n",
        "          # Making sure to stop at the end of the string, even if there are less than four words left after the target.\n",
        "          end=max(0,len(gatsby)-(len(gatsby)-(i+5)))\n",
        "          # The potential neighbors.\n",
        "          nextwords=gatsby[i+ngrams:end]\n",
        "          # Filtering the neighbors to select only those in the word list\n",
        "          inset=[x in gatsby_filt for x in nextwords]\n",
        "          neighbors=[nextwords[i] for i in range(len(nextwords)) if inset[i]]\n",
        "          # Adding 1 to the adjacency matrix for neighbors of the target word\n",
        "          if neighbors:\n",
        "              adjacency.loc[word,neighbors]=adjacency.loc[word,neighbors]+1\n",
        "\n",
        "  # Running TextRank\n",
        "  nx_words = nx.from_numpy_matrix(adjacency.as_matrix())\n",
        "  ranks=nx.pagerank(nx_words, alpha=.85, tol=.00000001)\n",
        "\n",
        "  # Identifying the five most highly ranked keywords\n",
        "  ranked = sorted(((ranks[i],s) for i,s in enumerate(words)),\n",
        "                  reverse=True)\n",
        "  print('\\nTop 5 Keywords \\n',ranked[:5])"
      ],
      "execution_count": 0,
      "outputs": []
    },
    {
      "cell_type": "code",
      "metadata": {
        "id": "XVVhXrqN5_pW",
        "colab_type": "code",
        "colab": {
          "base_uri": "https://localhost:8080/",
          "height": 138
        },
        "outputId": "0bce5b79-bea4-4a0e-cbaf-3358448595c7"
      },
      "source": [
        "# Bigrams\n",
        "what_is_my_purpose(2)"
      ],
      "execution_count": 88,
      "outputs": [
        {
          "output_type": "stream",
          "text": [
            "Highest Ranked Sentence \n",
            " (0.0628816012008427, 'This responsiveness had nothing to do with that flabby impressionability which is dignified under the name of the \"creative temperament\"--it was an extraordinary gift for hope, a romantic readiness such as I have never found in any other person and which it is not likely I shall ever find again.')\n",
            "\n",
            "Top 5 Keywords \n",
            " [(0.021950848108265916, hope), (0.016500118967415604, earthquakes), (0.0165001189674156, sort), (0.016157428494616363, matter), (0.01608584590227761, personality)]\n"
          ],
          "name": "stdout"
        },
        {
          "output_type": "stream",
          "text": [
            "/usr/local/lib/python3.6/dist-packages/ipykernel_launcher.py:68: FutureWarning: Method .as_matrix will be removed in a future version. Use .values instead.\n"
          ],
          "name": "stderr"
        }
      ]
    },
    {
      "cell_type": "code",
      "metadata": {
        "id": "92yAEYsvB98v",
        "colab_type": "code",
        "colab": {
          "base_uri": "https://localhost:8080/",
          "height": 138
        },
        "outputId": "8bce1bea-d04e-47ca-cf50-027d29c52794"
      },
      "source": [
        "#TriGrams\n",
        "what_is_my_purpose(3)"
      ],
      "execution_count": 89,
      "outputs": [
        {
          "output_type": "stream",
          "text": [
            "Highest Ranked Sentence \n",
            " (0.0625, 'When I came back from the East last autumn I felt that I wanted the world to be in uniform and at a sort of moral attention forever; I wanted no more riotous excursions with privileged glimpses into the human heart.')\n",
            "\n",
            "Top 5 Keywords \n",
            " [(0.019233271787799603, glimpses), (0.019110950675044546, personality), (0.019055766441547523, hope), (0.01775360151177523, intimate), (0.01775360151177523, abnormal)]\n"
          ],
          "name": "stdout"
        },
        {
          "output_type": "stream",
          "text": [
            "/usr/local/lib/python3.6/dist-packages/ipykernel_launcher.py:68: FutureWarning: Method .as_matrix will be removed in a future version. Use .values instead.\n"
          ],
          "name": "stderr"
        }
      ]
    },
    {
      "cell_type": "code",
      "metadata": {
        "id": "iVTSPXANCFeT",
        "colab_type": "code",
        "colab": {}
      },
      "source": [
        ""
      ],
      "execution_count": 0,
      "outputs": []
    }
  ]
}